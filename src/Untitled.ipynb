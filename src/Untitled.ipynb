{
 "cells": [
  {
   "cell_type": "code",
   "execution_count": 1,
   "id": "2a6e5b7f-1da6-4803-a43e-6717d1b9d8d2",
   "metadata": {},
   "outputs": [
    {
     "name": "stdout",
     "output_type": "stream",
     "text": [
      " El volumen de la unidad C no tiene etiqueta.\n",
      " El n£mero de serie del volumen es: C8D0-8BBC\n",
      "\n",
      " Directorio de C:\\Users\\percy\\Desktop\\desarrollo\\python\\Tecnologias_Multimedia\\env\\InterCom\\src\n",
      "\n",
      "08/10/2024  18:31    <DIR>          .\n",
      "10/09/2024  09:53    <DIR>          ..\n",
      "08/10/2024  18:31    <DIR>          .ipynb_checkpoints\n",
      "30/09/2024  09:53    <DIR>          __pycache__\n",
      "10/09/2024  09:53             3.405 basic_ToH.py\n",
      "10/09/2024  09:53             2.009 BR_control_add_lost.py\n",
      "10/09/2024  09:53             2.105 BR_control_conservative.py\n",
      "10/09/2024  09:53             1.887 BR_control_lost.py\n",
      "10/09/2024  09:53            11.212 BR_control_no.py\n",
      "10/09/2024  09:53             8.205 buffer.py\n",
      "10/09/2024  09:53             3.180 DEFLATE_byteplanes2.py\n",
      "10/09/2024  09:53             2.740 DEFLATE_byteplanes2_interlaced.py\n",
      "10/09/2024  09:53             4.495 DEFLATE_byteplanes3.py\n",
      "10/09/2024  09:53             4.773 DEFLATE_byteplanes4.py\n",
      "10/09/2024  09:53             6.067 DEFLATE_raw.py\n",
      "10/09/2024  09:53             2.457 DEFLATE_serial.py\n",
      "10/09/2024  09:53             2.853 DEFLATE_serial2.py\n",
      "10/09/2024  09:53             9.653 echo_cancellation.py\n",
      "07/10/2024  10:44             5.057 ejemplo practicas.ipynb\n",
      "30/09/2024  10:07             2.498 herencia_con_NAT.py\n",
      "19/09/2024  11:57            23.696 minimal.py\n",
      "23/09/2024  10:20               944 NAT.py\n",
      "10/09/2024  09:53             2.499 stereo_MST_coding_16.py\n",
      "10/09/2024  09:53             1.837 stereo_MST_coding_32.py\n",
      "10/09/2024  09:53             3.626 temporal_coding.py\n",
      "10/09/2024  09:53             4.238 temporal_coding0.py\n",
      "10/09/2024  09:53             4.184 temporal_coding2.py\n",
      "10/09/2024  09:53             4.709 temporal_no_overlapped_DWT_coding.py\n",
      "10/09/2024  09:53            10.720 temporal_overlapped_DWT_coding.py\n",
      "08/10/2024  18:31                72 Untitled.ipynb\n",
      "              26 archivos        129.121 bytes\n",
      "               4 dirs  842.517.151.744 bytes libres\n"
     ]
    }
   ],
   "source": [
    "ls"
   ]
  }
 ],
 "metadata": {
  "kernelspec": {
   "display_name": "venv_Multimedia",
   "language": "python",
   "name": "venv_multimedia"
  },
  "language_info": {
   "codemirror_mode": {
    "name": "ipython",
    "version": 3
   },
   "file_extension": ".py",
   "mimetype": "text/x-python",
   "name": "python",
   "nbconvert_exporter": "python",
   "pygments_lexer": "ipython3",
   "version": "3.12.5"
  }
 },
 "nbformat": 4,
 "nbformat_minor": 5
}
