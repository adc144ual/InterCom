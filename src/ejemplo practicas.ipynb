{
 "cells": [
  {
   "cell_type": "code",
   "execution_count": 13,
   "id": "9b0bc7f3-00f5-4cb0-b6f2-7f5aaa1df915",
   "metadata": {},
   "outputs": [],
   "source": [
    "import stun"
   ]
  },
  {
   "cell_type": "code",
   "execution_count": 14,
   "id": "f10bc193-4a0b-4b32-98ee-fef2a1609df0",
   "metadata": {},
   "outputs": [],
   "source": [
    "STUN_SERVERS = (\n",
    "    'stun.ekiga.net',\n",
    "    'stun.ideasip.com',\n",
    "    'stun.voiparound.com',\n",
    "    'stun.voipbuster.com',\n",
    "    'stun.voipstunt.com',\n",
    "    'stun.voxgratia.org'\n",
    ")"
   ]
  },
  {
   "cell_type": "code",
   "execution_count": 21,
   "id": "bc600129-e0ba-4aa9-8a2c-075a3f0b3770",
   "metadata": {},
   "outputs": [],
   "source": [
    "\n",
    "def check_my_nat():\n",
    "    reference_ip, reference_port = None, None  # Para almacenar la IP y el puerto de referencia\n",
    "    successful_responses = 0  # Contador de respuestas exitosas de los servidores STUN\n",
    "\n",
    "    for server in STUN_SERVERS:\n",
    "        #print(f\"Comprobando con el servidor STUN: {server}\")\n",
    "        try:\n",
    "            # Intentamos obtener la IP pública y el puerto desde el servidor STUN\n",
    "            nat_type, external_ip, external_port = stun.get_ip_info(stun_host=server)\n",
    "            print(f\"Servidor STUN: {server} -> IP: {external_ip}, Puerto: {external_port}\")\n",
    "\n",
    "            # Ignoramos respuestas con IP o puerto 'None'\n",
    "            if external_ip is None or external_port is None:\n",
    "                #print(f\"El servidor STUN {server} no devolvió una IP o puerto válidos.\\n\")\n",
    "                continue\n",
    "\n",
    "            if reference_ip is None and reference_port is None:\n",
    "                # Si es la primera vez que obtenemos una respuesta válida, guardamos los valores\n",
    "                reference_ip, reference_port = external_ip, external_port\n",
    "                print(f\"IP y puerto de referencia: IP={reference_ip}, Puerto={reference_port}\")\n",
    "            else:\n",
    "                # Comprobamos si la IP y el puerto coinciden con los anteriores\n",
    "                if external_ip != reference_ip or external_port != reference_port:\n",
    "                    print(f\"IP/puerto no coinciden con los anteriores (IP: {external_ip}, Puerto: {external_port})\")\n",
    "                    return \"La NAT NO es Full Cone\"  # Si no coinciden, devolvemos False\n",
    "            \n",
    "            successful_responses += 1  # Contamos esta respuesta como exitosa\n",
    "\n",
    "        except Exception as e:\n",
    "            # Ignoramos los errores si el servidor STUN no responde\n",
    "            print(f\"Error al conectar con el servidor STUN {server}: {e}\")\n",
    "            continue\n",
    "\n",
    "    # Si sólo un servidor respondió\n",
    "    if successful_responses == 1:\n",
    "        return \"Solo un STUN respondió\"\n",
    "\n",
    "    # Si todos los servidores que respondieron devuelven la misma IP y puerto\n",
    "    if successful_responses > 1:\n",
    "         return f\"La NAT es Full Cone. Tu IP externa es {external_ip} con el puerto {external_port}\"  # Todas las IPs y puertos coinciden\n",
    "    \n",
    "    return \"Ningún servidor respondió \"  # No se recibió respuesta de ningún servidor STUN\n"
   ]
  },
  {
   "cell_type": "code",
   "execution_count": 22,
   "id": "07d6a717-13a1-48b1-a73d-9a96505cf303",
   "metadata": {},
   "outputs": [
    {
     "name": "stdout",
     "output_type": "stream",
     "text": [
      "Servidor STUN: stun.ekiga.net -> IP: 150.214.223.70, Puerto: 54320\n",
      "IP y puerto de referencia: IP=150.214.223.70, Puerto=54320\n",
      "Servidor STUN: stun.ideasip.com -> IP: None, Puerto: None\n",
      "Servidor STUN: stun.voiparound.com -> IP: None, Puerto: None\n",
      "Servidor STUN: stun.voipbuster.com -> IP: 150.214.223.70, Puerto: 54320\n",
      "Servidor STUN: stun.voipstunt.com -> IP: 150.214.223.70, Puerto: 35023\n",
      "IP/puerto no coinciden con los anteriores (IP: 150.214.223.70, Puerto: 35023)\n",
      "La NAT NO es Full Cone\n"
     ]
    }
   ],
   "source": [
    "if __name__ == \"__main__\":\n",
    "    print(check_my_nat())"
   ]
  },
  {
   "cell_type": "code",
   "execution_count": null,
   "id": "679603b9-e86e-482c-8bea-72409db49b00",
   "metadata": {},
   "outputs": [],
   "source": []
  }
 ],
 "metadata": {
  "kernelspec": {
   "display_name": "venv_Multimedia",
   "language": "python",
   "name": "venv_multimedia"
  },
  "language_info": {
   "codemirror_mode": {
    "name": "ipython",
    "version": 3
   },
   "file_extension": ".py",
   "mimetype": "text/x-python",
   "name": "python",
   "nbconvert_exporter": "python",
   "pygments_lexer": "ipython3",
   "version": "3.12.5"
  }
 },
 "nbformat": 4,
 "nbformat_minor": 5
}
