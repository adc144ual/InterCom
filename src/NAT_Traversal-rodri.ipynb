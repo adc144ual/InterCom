{
 "cells": [
  {
   "cell_type": "markdown",
   "id": "06630b40-730f-466b-9bea-318d56bb1bc3",
   "metadata": {},
   "source": [
    "## **NAT Traversal**"
   ]
  },
  {
   "cell_type": "markdown",
   "id": "7f6c7e55-0298-4798-8ff3-f95a60474619",
   "metadata": {},
   "source": [
    "Este hito consiste en determinar el tipo de NAT del que disponemos en nuestra red. Esta puede estar clasificada de diferentes formas:\n",
    "    \n",
    "    - Full cone NAT\n",
    "    - Restricted cone NAT\n",
    "    - Port-restricted cone NAT\n",
    "    - Symmetric NAT\n",
    "\n",
    "A continuación se mostrará como la vamos a determinar.\n",
    "\n",
    "    "
   ]
  },
  {
   "cell_type": "markdown",
   "id": "6a71636c-c6a2-4536-ad70-6b59aae78383",
   "metadata": {
    "jp-MarkdownHeadingCollapsed": true
   },
   "source": [
    "# **Contenido**\n",
    "\n",
    "    1. Librerias\n",
    "    2. Lista de servidores\n",
    "    3. Función check_my_nat()"
   ]
  },
  {
   "cell_type": "markdown",
   "id": "8a4711eb-3a3f-4397-b2c8-5d71c896383d",
   "metadata": {},
   "source": [
    "# *Librerias*"
   ]
  },
  {
   "cell_type": "markdown",
   "id": "4511048e-085e-4a51-9bdd-0367cb3416d7",
   "metadata": {},
   "source": [
    "El paquete stun en Python es utilizado para descubrir la dirección IP pública y el puerto de un dispositivo detrás de un router o firewall que usa NAT (Network Address Translation). Este paquete implementa el protocolo STUN (Session Traversal Utilities for NAT), que es un protocolo estándar para habilitar a los dispositivos detrás de un NAT obtener su dirección IP pública y determinar el tipo de NAT que está en uso. "
   ]
  },
  {
   "cell_type": "code",
   "execution_count": null,
   "id": "c127e1cd-7d39-43ed-93ae-a542adb6b136",
   "metadata": {},
   "outputs": [],
   "source": [
    "import stun"
   ]
  },
  {
   "cell_type": "markdown",
   "id": "b87220cc-871f-4a7a-8534-ce8b4c296c99",
   "metadata": {},
   "source": [
    "# *Lista de servidores*"
   ]
  },
  {
   "cell_type": "markdown",
   "id": "7857cbf0-e5ee-4459-91b1-8e01f2d2a476",
   "metadata": {},
   "source": [
    "Definimos la lusta de servidores STUN de referencia."
   ]
  },
  {
   "cell_type": "code",
   "execution_count": null,
   "id": "029e991a-21cc-405b-93f8-0fbdefa24d9d",
   "metadata": {},
   "outputs": [],
   "source": [
    "STUN_SERVERS = (\n",
    "    'stun.ekiga.net',\n",
    "    'stun.ideasip.com',\n",
    "    'stun.voiparound.com',\n",
    "    'stun.voipbuster.com',\n",
    "    'stun.voipstunt.com',\n",
    "    'stun.voxgratia.org'\n",
    ")"
   ]
  },
  {
   "cell_type": "markdown",
   "id": "a1c319c2-4c4c-4495-be5a-c8da0370dcf1",
   "metadata": {},
   "source": [
    "# *Función check_my_nat()*"
   ]
  },
  {
   "cell_type": "markdown",
   "id": "f87fe300-772f-4d10-87f1-f015168b6343",
   "metadata": {},
   "source": [
    "Esta función es la encargada de determinar el tipo de NAT que disponemos en la red. \n",
    "\n",
    "Lo primero que se hará es crearnos dos variables inicializadas a None. Estas serán las encargadas de almacenar la primera IP pública y puerto devueltos por un servidor STUN, respectivamente."
   ]
  },
  {
   "cell_type": "code",
   "execution_count": 10,
   "id": "c9d947bb-2916-4d2a-93d5-18b6d73a9833",
   "metadata": {},
   "outputs": [],
   "source": [
    "def check_my_nat():\n",
    "    reference_ip, reference_port = None, None  "
   ]
  },
  {
   "cell_type": "markdown",
   "id": "00a7e5c5-de01-4f94-b195-48f66c7e2f6d",
   "metadata": {},
   "source": [
    "Contador de respuestos exitosas obtenidad de los servidores STUN."
   ]
  },
  {
   "cell_type": "code",
   "execution_count": 11,
   "id": "d54fa8f0-ca3c-42c6-a20c-e7b906569eb6",
   "metadata": {},
   "outputs": [],
   "source": [
    "    successful_responses = 0"
   ]
  },
  {
   "cell_type": "markdown",
   "id": "f68070a2-9d26-4f4a-b30b-f765d663900a",
   "metadata": {},
   "source": [
    "Iteramos sobre la lista de servidores STUN definidos anteriormente."
   ]
  },
  {
   "cell_type": "code",
   "execution_count": null,
   "id": "b08c236a-1290-4515-ab94-bc3202ab3f28",
   "metadata": {},
   "outputs": [],
   "source": [
    "    for server in STUN_SERVERS:\n",
    "        try:"
   ]
  },
  {
   "cell_type": "markdown",
   "id": "d55a63b4-8f7e-4261-ba09-341f1dc1d87d",
   "metadata": {},
   "source": [
    "Obtenemos el tipo de NAT, la dirección IP y el puerto esterno del servidor STUN."
   ]
  },
  {
   "cell_type": "code",
   "execution_count": null,
   "id": "248686ff-9dd2-438f-bf22-f20d62836b1b",
   "metadata": {},
   "outputs": [],
   "source": [
    "            nat_type, external_ip, external_port = stun.get_ip_info(stun_host=server)\n",
    "            print(f\"Servidor STUN: {server} -> IP: {external_ip}, Puerto: {external_port}\")"
   ]
  },
  {
   "cell_type": "markdown",
   "id": "e38c7ff8-cc61-43f7-87b4-9662f7c47937",
   "metadata": {},
   "source": [
    "\n",
    "Si el servidor no devuelve datos validos, pasamos al siguiente servidor STUN.\n"
   ]
  },
  {
   "cell_type": "code",
   "execution_count": null,
   "id": "a1afb79b-ac3b-4988-950a-823616229d03",
   "metadata": {},
   "outputs": [],
   "source": [
    "            if external_ip is None or external_port is None:\n",
    "                            continue"
   ]
  },
  {
   "cell_type": "markdown",
   "id": "a6e931c9-1b03-4239-97d2-96ed43b996a1",
   "metadata": {},
   "source": [
    "Si es la primera vez que obtenemos una respuesta valida, guardamos la IP y el puerto como referencia."
   ]
  },
  {
   "cell_type": "code",
   "execution_count": null,
   "id": "3effbcf0-fe53-4f49-bc57-4bd69fb532a1",
   "metadata": {},
   "outputs": [],
   "source": [
    "            if reference_ip is None and reference_port is None:\n",
    "                            reference_ip, reference_port = external_ip, external_port\n",
    "                            print(f\"IP y puerto de referencia: IP={reference_ip}, Puerto={reference_port}\")"
   ]
  },
  {
   "cell_type": "markdown",
   "id": "fa919001-4508-47a7-aff3-5b33628a9b6e",
   "metadata": {},
   "source": [
    "Si no, significa que no es la primera vez que obtenemos una respuesta, por lo que comprobaremos los valoras obtenidos. Si no coinciden significa que la NAT no es Full Cone."
   ]
  },
  {
   "cell_type": "code",
   "execution_count": null,
   "id": "b87b2c87-3b17-4893-9900-12b447e91fa4",
   "metadata": {},
   "outputs": [],
   "source": [
    "            else:\n",
    "                    if external_ip != reference_ip or external_port != reference_port:\n",
    "                        print(f\"IP/puerto no coinciden con los anteriores (IP: {external_ip}, Puerto: {external_port})\")\n",
    "                        return \"La NAT NO es Full Cone\""
   ]
  },
  {
   "cell_type": "markdown",
   "id": "1d306f3b-7511-430e-9115-85df35f89678",
   "metadata": {},
   "source": [
    "Aumentamos el contador de respuestas exitosas en 1."
   ]
  },
  {
   "cell_type": "code",
   "execution_count": null,
   "id": "e03af4b4-68fc-4968-b9ac-1acf04e3f387",
   "metadata": {},
   "outputs": [],
   "source": [
    "            successful_responses += 1  # Contamos esta respuesta como exitosa"
   ]
  },
  {
   "cell_type": "markdown",
   "id": "3a28ae07-7a97-4fbf-9a86-834f98c4c44d",
   "metadata": {},
   "source": [
    "Si ocurre algún error en la conexión al servidor STUN, lo ignoramos."
   ]
  },
  {
   "cell_type": "code",
   "execution_count": null,
   "id": "59f583f5-43f5-4ae2-8f2a-d4b0fea5e897",
   "metadata": {},
   "outputs": [],
   "source": [
    "        except Exception as e:\n",
    "                print(f\"Error al conectar con el servidor STUN {server}: {e}\")\n",
    "                continue"
   ]
  },
  {
   "cell_type": "markdown",
   "id": "1ac67d9c-e015-4227-affd-5d99e1ebee9a",
   "metadata": {},
   "source": [
    "En caso de que un solo servidor de respuestas validas."
   ]
  },
  {
   "cell_type": "code",
   "execution_count": null,
   "id": "595af455-2f39-4a54-9704-7f01b9332ef1",
   "metadata": {},
   "outputs": [],
   "source": [
    "    if successful_responses == 1:\n",
    "            return \"Solo un STUN respondió\""
   ]
  },
  {
   "cell_type": "markdown",
   "id": "494a9032-78fc-4bd7-bf07-2944088de80a",
   "metadata": {},
   "source": [
    "En caso de que hay mas de un servidor que de respuestas validas y todas coincidan."
   ]
  },
  {
   "cell_type": "code",
   "execution_count": null,
   "id": "63cd678d-28e4-4d36-94c4-c85d90999e05",
   "metadata": {},
   "outputs": [],
   "source": [
    "    if successful_responses > 1:\n",
    "         return f\"La NAT es Full Cone. Tu IP externa es {external_ip} con el puerto {external_port}\""
   ]
  },
  {
   "cell_type": "markdown",
   "id": "bea23089-4f6d-4d9c-b82f-02b23c6f3147",
   "metadata": {},
   "source": [
    "En caso de que ningun servidor de una respuesta."
   ]
  },
  {
   "cell_type": "code",
   "execution_count": null,
   "id": "17858947-3e86-4b3f-97e5-f970929dd39a",
   "metadata": {},
   "outputs": [],
   "source": [
    "return \"Ningún servidor respondió \" "
   ]
  },
  {
   "cell_type": "markdown",
   "id": "80167a20-1b80-42c1-b5a6-d2d20a45acba",
   "metadata": {},
   "source": [
    "# **Ejecución y pruebas**\n",
    "\n",
    "La ejecución del programa será muy sencilla, simplemente ejecutaremos el main."
   ]
  },
  {
   "cell_type": "code",
   "execution_count": null,
   "id": "8383bc58-6482-4cef-b62d-f3ea92686dda",
   "metadata": {},
   "outputs": [],
   "source": [
    "if __name__ == \"__main__\":\n",
    "    print(check_my_nat())"
   ]
  },
  {
   "cell_type": "markdown",
   "id": "c514959d-bfb9-4582-b2a9-2a96e0279222",
   "metadata": {},
   "source": [
    "Un ejemplo de solución dada es el siguiente:"
   ]
  },
  {
   "cell_type": "code",
   "execution_count": null,
   "id": "355a0c38-8c2d-4d73-826f-9eeda7143cf1",
   "metadata": {},
   "outputs": [],
   "source": [
    "Servidor STUN: stun.ekiga.net -> IP: 150.214.223.70, Puerto: 54320\n",
    "IP y puerto de referencia: IP=150.214.223.70, Puerto=54320\n",
    "Servidor STUN: stun.ideasip.com -> IP: None, Puerto: None\n",
    "Servidor STUN: stun.voiparound.com -> IP: None, Puerto: None\n",
    "Servidor STUN: stun.voipbuster.com -> IP: 150.214.223.70, Puerto: 49607\n",
    "IP/puerto no coinciden con los anteriores (IP: 150.214.223.70, Puerto: 49607)\n",
    "La NAT NO es Full Cone"
   ]
  },
  {
   "cell_type": "markdown",
   "id": "7a7d6c5c-b07a-41b9-aa4a-25c7b4e1e2ce",
   "metadata": {},
   "source": [
    "# **Integrantes del grupo**\n",
    "* Cristhian Ceballos Moreno  \n",
    "* Antonio de Toro Castro  \n",
    "* Jesús García Gelado  \n",
    "* Marvin Grotheer  \n",
    "* Rodrigo Iáñez Huertas  \n",
    "  "
   ]
  }
 ],
 "metadata": {
  "colab": {
   "provenance": []
  },
  "kernelspec": {
   "display_name": "Python 3 (ipykernel)",
   "language": "python",
   "name": "python3"
  },
  "language_info": {
   "codemirror_mode": {
    "name": "ipython",
    "version": 3
   },
   "file_extension": ".py",
   "mimetype": "text/x-python",
   "name": "python",
   "nbconvert_exporter": "python",
   "pygments_lexer": "ipython3",
   "version": "3.12.5"
  }
 },
 "nbformat": 4,
 "nbformat_minor": 5
}
